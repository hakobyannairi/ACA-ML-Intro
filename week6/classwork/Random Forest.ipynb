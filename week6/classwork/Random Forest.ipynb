{
 "cells": [
  {
   "cell_type": "markdown",
   "metadata": {},
   "source": [
    "# Write a function to calculate gini index for the given dataset"
   ]
  },
  {
   "cell_type": "markdown",
   "metadata": {},
   "source": [
    "x: list of counts\n",
    "<br>\n",
    "if we have 30 elements from one class, 40 elements from the second and 50 elements from third then x == [30,40,50]"
   ]
  },
  {
   "cell_type": "code",
   "execution_count": 59,
   "metadata": {},
   "outputs": [],
   "source": [
    "def gini(x:list):\n",
    "    return ... # return gini index"
   ]
  },
  {
   "cell_type": "markdown",
   "metadata": {},
   "source": [
    "# Write a function to calculate gini index for the given split"
   ]
  },
  {
   "cell_type": "markdown",
   "metadata": {},
   "source": [
    "x: list of counts for the left dataset \n",
    "<br>\n",
    "y: list of counts for the right dataset"
   ]
  },
  {
   "cell_type": "code",
   "execution_count": null,
   "metadata": {},
   "outputs": [],
   "source": [
    "def split_gini(x:list, y:list):\n",
    "    return ... "
   ]
  },
  {
   "cell_type": "markdown",
   "metadata": {},
   "source": [
    "# Implement Random Forest"
   ]
  },
  {
   "cell_type": "code",
   "execution_count": null,
   "metadata": {},
   "outputs": [],
   "source": [
    "class RandomForest:\n",
    "    def __init__(...):\n",
    "        ...\n",
    "        \n",
    "    def fit(...):\n",
    "        ...\n",
    "        \n",
    "    def predict(...):\n",
    "        ...\n",
    "    \n",
    "    def score(...):\n",
    "        ..."
   ]
  }
 ],
 "metadata": {
  "kernelspec": {
   "display_name": "Python 3",
   "language": "python",
   "name": "python3"
  },
  "language_info": {
   "codemirror_mode": {
    "name": "ipython",
    "version": 3
   },
   "file_extension": ".py",
   "mimetype": "text/x-python",
   "name": "python",
   "nbconvert_exporter": "python",
   "pygments_lexer": "ipython3",
   "version": "3.9.2"
  }
 },
 "nbformat": 4,
 "nbformat_minor": 4
}
